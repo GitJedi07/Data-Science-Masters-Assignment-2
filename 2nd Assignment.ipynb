{
 "cells": [
  {
   "cell_type": "markdown",
   "id": "2330785f-2ba8-428d-bb1f-8204bb0f2947",
   "metadata": {},
   "source": [
    "# 2nd Feb Assignment"
   ]
  },
  {
   "cell_type": "markdown",
   "id": "7be22f91-e7f4-4032-8966-07aa71a381fd",
   "metadata": {},
   "source": [
    "# 1 solution:"
   ]
  },
  {
   "cell_type": "markdown",
   "id": "c61c543e-8f91-4627-9713-5a9884cb9307",
   "metadata": {},
   "source": [
    "##### A tuple has the following characteristics:\n",
    "##### 1.Ordered: Tuples maintain the order of the objects within them. The order in which you define the elements in the tuple is the order in which they will appear in the tuple.\n",
    "##### 2.Immutable: Once a tuple is created, it cannot be modified. You cannot add, remove, or modify elements in a tuple.\n",
    "##### 3.Heterogeneous: A tuple can contain objects of different types (e.g., integers, floats, strings, etc.).\n",
    "##### 4.Indexed: Like lists, tuples are indexed starting from 0. You can access individual elements of a tuple using their index.\n",
    "##### 5.Nesting: Tuples can contain other tuples or other data structures.\n",
    "##### 6.Iterability: You can iterate over the elements of a tuple using a for loop.\n",
    "##### 7.Length: You can find the number of elements in a tuple using the built-in len() function.\n",
    "##### 8.Comma Separated: Tuples are typically defined using parentheses, but the elements within the parentheses are separated by commas, not by parentheses."
   ]
  },
  {
   "cell_type": "code",
   "execution_count": null,
   "id": "4e5f7b34-8354-480b-afcf-a2dbd9cf4045",
   "metadata": {},
   "outputs": [],
   "source": [
    "# Example:\n",
    "a_tuple = (1,2,3,45,45.45,45+7j,\"vivek\",True)\n",
    "# The above tuple contains integers, a floating point number, a complex number, a string value and a boolean value"
   ]
  },
  {
   "cell_type": "markdown",
   "id": "288f2e25-8603-42c3-b0d0-4bfb183df6d0",
   "metadata": {},
   "source": [
    "#### As mentioned in the characteristics, a tuple is immutable. "
   ]
  },
  {
   "cell_type": "markdown",
   "id": "e4a8b817-0a82-4be6-8e3f-0d9f5d566a42",
   "metadata": {},
   "source": [
    "# 2 solution:"
   ]
  },
  {
   "cell_type": "markdown",
   "id": "1fff6825-ffd8-44b1-9988-82a81b81e217",
   "metadata": {},
   "source": [
    "#### The two tuple methods in Python are:\n",
    "#### 1.'count()' method: The count() method returns the number of times a specified value appears in the tuple."
   ]
  },
  {
   "cell_type": "code",
   "execution_count": null,
   "id": "0e7fc752-3f35-473d-9f91-e911cdc06e91",
   "metadata": {},
   "outputs": [],
   "source": [
    "# Example:\n",
    "my_tuple1 = (1, 2, 3, 2, 4, 5, 2)\n",
    "count_2 = my_tuple1.count(2)\n",
    "print(count_2)"
   ]
  },
  {
   "cell_type": "markdown",
   "id": "ef09028f-31a1-4275-b704-056fec74e26e",
   "metadata": {},
   "source": [
    "#### 2.'index()' method: The index() method returns the index of the first occurrence of a specified value in the tuple."
   ]
  },
  {
   "cell_type": "code",
   "execution_count": null,
   "id": "cfe98402-0c34-4550-8b35-b6725df16062",
   "metadata": {},
   "outputs": [],
   "source": [
    "#Example:\n",
    "my_tuple2 = (1, 2, 3, 2, 4, 5, 2)\n",
    "index_of_4 = my_tuple2.index(4)\n",
    "print(index_of_4)"
   ]
  },
  {
   "cell_type": "markdown",
   "id": "e7441c54-88f8-4a1e-a532-6073b00e5a99",
   "metadata": {},
   "source": [
    "#### Tuples have only two built-in methods ('count()' and 'index()') compared to lists because tuples are designed to be immutable, meaning they cannot be modified once they are created. The limited number of methods on tuples is intentional and reflects their purpose as a fixed, read-only collection of objects. In contrast, lists are designed to be mutable, and as a result, they have many built-in methods that allow for modifying the contents of the list."
   ]
  },
  {
   "cell_type": "markdown",
   "id": "b63c487c-7e29-4178-bf1d-34c6279fd3cf",
   "metadata": {},
   "source": [
    "# 3 solution:"
   ]
  },
  {
   "cell_type": "markdown",
   "id": "ba736f6e-f488-4001-b16f-fa646c0e733d",
   "metadata": {},
   "source": [
    "#### A set is the only collection data type in python which does not allow duplicate items.\n",
    "#### A set is an unordered collection of unique elements. When you add an element to a set that already exists in the set, the set will not add the element again. Instead, it will simply ignore the duplicate and maintain the existing element in the set."
   ]
  },
  {
   "cell_type": "code",
   "execution_count": null,
   "id": "69c8c85c-e318-4446-86fd-6083739a44ee",
   "metadata": {},
   "outputs": [],
   "source": [
    "# Code using a set to remove duplicates from the given list:\n",
    "List = [1,1,1,2,1,3,1,4,2,1,2,2,2,3,2,4,3,1,3,2,3,3,3,4,4,1,4,2,4,3,4,4]\n",
    "Set = {1,1,1,2,1,3,1,4,2,1,2,2,2,3,2,4,3,1,3,2,3,3,3,4,4,1,4,2,4,3,4,4}\n",
    "print(Set)"
   ]
  },
  {
   "cell_type": "markdown",
   "id": "6cc5b467-04a2-469f-b634-1bcf02036c65",
   "metadata": {},
   "source": [
    "# 4 solution:"
   ]
  },
  {
   "cell_type": "markdown",
   "id": "181a15b9-a841-42ad-ba37-1aa18d552e8c",
   "metadata": {},
   "source": [
    "#### Both union() and update() methods can be used to combine two or more sets in Python but there is a difference in how they operate. Let us understand with the help of examples:"
   ]
  },
  {
   "cell_type": "code",
   "execution_count": null,
   "id": "4460059c-47fe-4982-8948-7ca704a68fa0",
   "metadata": {},
   "outputs": [],
   "source": [
    "set1 = {1, 2, 3}\n",
    "set2 = {3, 4, 5}\n",
    "set3 = {5, 6, 7}\n",
    "# Using union() method to combine sets\n",
    "new_set = set1.union(set2, set3)\n",
    "print(new_set)\n",
    "print(set1, set2, set3)"
   ]
  },
  {
   "cell_type": "markdown",
   "id": "6977c7cc-1975-4f29-8a68-ee155b1f2730",
   "metadata": {},
   "source": [
    "#### In this example, we create three sets set1, set2, and set3. We then use the union() method to combine the sets into a new set new_set. The resulting set contains all the unique elements from all the sets that were combined. The original sets set1, set2, and set3 are not modified."
   ]
  },
  {
   "cell_type": "code",
   "execution_count": null,
   "id": "063c4088-7782-4c95-ac7d-a29bb5dcef54",
   "metadata": {},
   "outputs": [],
   "source": [
    "set1 = {1, 2, 3}\n",
    "set2 = {3, 4, 5}\n",
    "set3 = {5, 6, 7}\n",
    "# Using update() method to add elements from other sets to set1\n",
    "set1.update(set2, set3)\n",
    "print(set1)\n",
    "print(set2,set3)"
   ]
  },
  {
   "cell_type": "markdown",
   "id": "30c66366-c245-4664-b71b-320c409fd5cc",
   "metadata": {},
   "source": [
    "#### In this example, we create three sets set1, set2, and set3. We then use the update() method to add all the unique elements from set2 and set3 to set1. The resulting set set1 contains all the unique elements from all the sets that were combined. The original sets set2 and set3 are not modified."
   ]
  },
  {
   "cell_type": "markdown",
   "id": "6ff823aa-3fa8-4d64-85b0-6b402a2e8978",
   "metadata": {},
   "source": [
    "# 5 solution:"
   ]
  },
  {
   "cell_type": "markdown",
   "id": "cbbabf50-23db-4190-abc6-e199df536d6d",
   "metadata": {},
   "source": [
    "#### A dictionary is a collection data type in Python that stores key-value pairs. Each key in a dictionary must be unique and is used to access its corresponding value. Dictionaries are useful for storing and retrieving data in a way that is efficient and easy to understand.\n",
    "#### The syntax for creating a dictionary in python is:\n",
    "#### my_dict = {\"key1\" : \"value1\" , \"key2\" : \"value2\" , \"key3\" : \"value3\"}\n",
    "#### The keys of a dictionary must be unique and of immutable type like strings, numbers or tuples. However, we can store any data type as values. We can access the values in the dictionary by using the keys and we can also add or modify key-value pairs in the dictionary."
   ]
  },
  {
   "cell_type": "code",
   "execution_count": null,
   "id": "727c1d05-546b-4f0a-beba-053101d20250",
   "metadata": {},
   "outputs": [],
   "source": [
    "# Example:\n",
    "my_dict = {\"name\" : \"vivek\", \"email_id\" : \"vs@gmail.com\", \"number\" : 7654839524}\n",
    "\n",
    "print(my_dict[\"name\"])\n",
    "print(my_dict[\"email_id\"])\n",
    "print(my_dict[\"number\"])\n",
    "\n",
    "my_dict[\"status\"] = \"student\"   # Add a new key-value pair\n",
    "my_dict[\"number\"] = 7558456980  # Modify the value of an existing key\n",
    "\n",
    "print(my_dict[\"name\"])\n",
    "print(my_dict[\"email_id\"])\n",
    "print(my_dict[\"number\"])\n",
    "print(my_dict[\"status\"])"
   ]
  },
  {
   "cell_type": "markdown",
   "id": "567a181a-6033-4fe7-8549-e608374f4081",
   "metadata": {},
   "source": [
    "# 6 solution:"
   ]
  },
  {
   "cell_type": "markdown",
   "id": "f0a2a157-7d5d-48fd-853c-867034e4672e",
   "metadata": {},
   "source": [
    "#### Yes, we can create a nested dictionary."
   ]
  },
  {
   "cell_type": "code",
   "execution_count": null,
   "id": "c461b939-33db-408a-a851-b17563199408",
   "metadata": {},
   "outputs": [],
   "source": [
    "# for example:\n",
    "my_dict1 = {\"key\" : {\"name\" : \"vivek\" , \"class\" : \"DSM\"}}\n",
    "print(my_dict1)"
   ]
  },
  {
   "cell_type": "markdown",
   "id": "cd17c9a0-f39e-4f10-8458-d8a9364f73fa",
   "metadata": {},
   "source": [
    "# 7 solution:"
   ]
  },
  {
   "cell_type": "code",
   "execution_count": null,
   "id": "e26ee5ed-9ab4-4008-a6f0-dbd95c5a343e",
   "metadata": {},
   "outputs": [],
   "source": [
    "dict1 = {'language': 'Python', 'course': 'Data Science Masters'}\n",
    "\n",
    "topics_list = ['Python', 'Machine Learning', 'Deep Learning']\n",
    "\n",
    "dict1.setdefault('topics', topics_list)\n",
    "print(dict1)"
   ]
  },
  {
   "cell_type": "markdown",
   "id": "33fe5e47-d796-4b00-8079-6f786b888480",
   "metadata": {},
   "source": [
    "# 8 solution:"
   ]
  },
  {
   "cell_type": "markdown",
   "id": "5c1cec6f-16cf-4853-b75d-95d3f9b5b053",
   "metadata": {},
   "source": [
    "#### The three view objects in dictionaries are:\n",
    "\n",
    "#### >> dict.keys(): This method returns a view object that contains the keys of the dictionary. It allows you to iterate over the keys in the dictionary or check if a specific key is present.\n",
    "\n",
    "#### >> dict.values(): This method returns a view object that contains the values of the dictionary. It allows you to iterate over the values in the dictionary or check if a specific value is present.\n",
    "\n",
    "#### >> dict.items(): This method returns a view object that contains the key-value pairs of the dictionary. It allows you to iterate over the items in the dictionary or check if a specific key-value pair is present."
   ]
  },
  {
   "cell_type": "code",
   "execution_count": null,
   "id": "0538e720-0286-4182-8bfa-bb0d00c7ced1",
   "metadata": {},
   "outputs": [],
   "source": [
    "dict2 = {'Sport' : 'Cricket' , 'Teams' : ['India', 'Australia', 'England', 'South Africa', 'New Zealand']}\n",
    "\n",
    "# Displaying the view objects using the three in-built view objects method:\n",
    "print(\"Keys view:\",dict2.keys()) #display dict_keys object\n",
    "\n",
    "print(\"\\nValues view:\",dict2.values()) #display dict_values object\n",
    "\n",
    "print(\"\\nItems view:\",dict2.items()) #display dict_items object"
   ]
  },
  {
   "cell_type": "code",
   "execution_count": null,
   "id": "ca3848b8-b413-4fbf-9a00-97b0b5cd95d7",
   "metadata": {},
   "outputs": [],
   "source": []
  }
 ],
 "metadata": {
  "kernelspec": {
   "display_name": "Python 3 (ipykernel)",
   "language": "python",
   "name": "python3"
  },
  "language_info": {
   "codemirror_mode": {
    "name": "ipython",
    "version": 3
   },
   "file_extension": ".py",
   "mimetype": "text/x-python",
   "name": "python",
   "nbconvert_exporter": "python",
   "pygments_lexer": "ipython3",
   "version": "3.10.8"
  }
 },
 "nbformat": 4,
 "nbformat_minor": 5
}
